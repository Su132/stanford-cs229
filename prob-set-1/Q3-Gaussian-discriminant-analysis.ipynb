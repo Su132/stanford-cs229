{
 "cells": [
  {
   "cell_type": "markdown",
   "metadata": {},
   "source": [
    "http://cs229.stanford.edu/ps/ps1/ps1.pdf"
   ]
  },
  {
   "cell_type": "markdown",
   "metadata": {},
   "source": [
    "# (a)"
   ]
  },
  {
   "cell_type": "markdown",
   "metadata": {},
   "source": [
    "Given \n",
    "\n",
    "\\begin{align*} \n",
    "p(y) &= \\begin{cases}\n",
    "  \\phi          & \\text{if} \\; y = 1 \\\\\n",
    "  1 - \\phi     & \\text{if} \\; y = -1\n",
    "\\end{cases} \\\\\n",
    "p(x|y=1) &= \\frac{1}{(2\\pi)^{n/2} \\left|\\Sigma\\right|^{1/2}} \\mathrm{exp}\\bigg(-\\frac{1}{2}(x - \\mu_{1})^T \\Sigma^{-1} (x - \\mu_{1}) \\bigg) \\\\\n",
    "p(x|y=-1) &= \\frac{1}{(2\\pi)^{n/2} \\left|\\Sigma\\right|^{1/2}} \\mathrm{exp}\\bigg(-\\frac{1}{2}(x - \\mu_{-1})^T \\Sigma^{-1} (x - \\mu_{-1}) \\bigg) \\\\\n",
    "\\end{align*}\n"
   ]
  },
  {
   "cell_type": "markdown",
   "metadata": {},
   "source": [
    "Define\n",
    "\n",
    "\\begin{align*}\n",
    "A &\\equiv -\\frac{1}{2}(x - \\mu_{1})^T \\Sigma^{-1} (x - \\mu_{1}) \\\\\n",
    "B &\\equiv -\\frac{1}{2}(x - \\mu_{-1})^T \\Sigma^{-1} (x - \\mu_{-1}) \\\\\n",
    "C &\\equiv \\frac{1}{(2\\pi)^{n/2} \\left|\\Sigma\\right|^{1/2}}\n",
    "\\end{align*}\n",
    "\n",
    "so that\n",
    "\n",
    "\\begin{align*} \n",
    "p(x|y=1)  &= C e^A \\\\\n",
    "p(x|y=-1) &= C e^B \\\\\n",
    "\\end{align*}"
   ]
  },
  {
   "cell_type": "markdown",
   "metadata": {},
   "source": [
    "Bayes formula gives\n",
    "\n",
    "\\begin{align*} \n",
    "p(y=1|x) &= \\frac{p(x|y=1) p(y=1)}{p(x|y=1) p(y=1) + p(x|y=-1) p(y=-1)} \\\\\n",
    "           &= \\frac{Ce^A \\phi}{Ce^A \\phi + Ce^B (1 - \\phi)} \\\\\n",
    "           &= \\frac{e^A \\phi}{e^A \\phi + e^B (1 - \\phi)} \\\\\n",
    "           &= \\frac{1}{1 + \\frac{1 - \\phi}{\\phi} e^{B - A}} \\\\\n",
    "           &= \\frac{1}{1 + e^{(B - A + \\mathrm{ln}(1 - \\phi) - \\mathrm{ln}\\phi)}} \\\\\n",
    "           &= \\frac{1}{1 + e^{- 1 (A -B + \\mathrm{ln}\\phi - \\mathrm{ln}(1 - \\phi))}} \\\\\n",
    "           &= \\frac{1}{1 + e^{- y (A -B + \\mathrm{ln}\\phi - \\mathrm{ln}(1 - \\phi))}} \\\\\n",
    "\\end{align*}"
   ]
  },
  {
   "cell_type": "markdown",
   "metadata": {},
   "source": [
    "And similarly for $y = -1$:\n",
    "\n",
    "\\begin{align*} \n",
    "p(y=-1|x) &= \\frac{p(x|y=-1) p(y=-1)}{p(x|y=1) p(y=1) + p(x|y=-1) p(y=-1)} \\\\\n",
    "           &= \\frac{Ce^B (1 - \\phi)}{Ce^A \\phi + Ce^B (1 - \\phi)} \\\\\n",
    "           &= \\frac{1}{\\frac{\\phi}{1 - \\phi} e^{A - B} + 1} \\\\\n",
    "           &= \\frac{1}{1 + e^{(A - B + \\mathrm{ln}\\phi - \\mathrm{ln}(1 - \\phi))}} \\\\\n",
    "           &= \\frac{1}{1 + e^{- y (A - B + \\mathrm{ln}\\phi - \\mathrm{ln}(1 - \\phi))}} \\\\\n",
    "\\end{align*}"
   ]
  },
  {
   "cell_type": "markdown",
   "metadata": {},
   "source": [
    "Therefore, in both cases,\n",
    "\n",
    "$$p(y|x) = \\frac{1}{1 + e^{- y (A - B + \\mathrm{ln}\\phi - \\mathrm{ln}(1 - \\phi))}}\\tag{1}$$\n",
    "\n",
    "Note that\n",
    "\n",
    "\\begin{align*}\n",
    "A-B &= -\\frac{1}{2}(x - \\mu_{1})^T \\Sigma^{-1} (x - \\mu_{1}) + \\frac{1}{2}(x - \\mu_{-1})^T \\Sigma^{-1} (x - \\mu_{-1})\\\\\n",
    "                    &= -\\frac{1}{2}\\big[x^T\\Sigma^{-1}x-x^T\\Sigma^{-1}\\mu_1-\\mu_1^T\\Sigma^{-1}x+\\mu_1^T\\Sigma^{-1}\\mu_1-\\big(x^T\\Sigma^{-1}x-x^T\\Sigma^{-1}\\mu_{-1}-\\mu_{-1}^T\\Sigma^{-1}x+\\mu_{-1}^T\\Sigma^{-1}\\mu_{-1}\\big)\\big]  \\\\\n",
    "                    &= -\\frac{1}{2}\\big[-x^T\\Sigma^{-1}\\mu_1-\\mu_1^T\\Sigma^{-1}x+\\mu_1^T\\Sigma^{-1}\\mu_1-\\big(-x^T\\Sigma^{-1}\\mu_{-1}-\\mu_{-1}^T\\Sigma^{-1}x+\\mu_{-1}^T\\Sigma^{-1}\\mu_{-1}\\big)\\big]  \\\\\n",
    "                    &= -\\frac{1}{2}\\big[-(x^T\\Sigma^{-1}\\mu_1)^T-\\mu_1^T\\Sigma^{-1}x+\\mu_1^T\\Sigma^{-1}\\mu_1-\\big(-(x^T\\Sigma^{-1}\\mu_{-1})^T-\\mu_{-1}^T\\Sigma^{-1}x+\\mu_{-1}^T\\Sigma^{-1}\\mu_{-1}\\big)\\big]  \\\\\n",
    "                    &= -\\frac{1}{2}\\big[-\\mu_1^T\\Sigma^{-1}x-\\mu_1^T\\Sigma^{-1}x+\\mu_1^T\\Sigma^{-1}\\mu_1-\\big(-\\mu_{-1}^T\\Sigma^{-1}x-\\mu_{-1}^T\\Sigma^{-1}x+\\mu_{-1}^T\\Sigma^{-1}\\mu_{-1}\\big)\\big]  \\\\\n",
    "                    &= -\\frac{1}{2}\\big[-2\\mu_1^T\\Sigma^{-1}x+\\mu_1^T\\Sigma^{-1}\\mu_1-\\big(-2\\mu_{-1}^T\\Sigma^{-1}x+\\mu_{-1}^T\\Sigma^{-1}\\mu_{-1}\\big)\\big]  \\\\\n",
    "                    &= -\\frac{1}{2}\\big[-2\\mu_1^T\\Sigma^{-1}x+\\mu_1^T\\Sigma^{-1}\\mu_1+2\\mu_{-1}^T\\Sigma^{-1}x-\\mu_{-1}^T\\Sigma^{-1}\\mu_{-1}\\big]  \\\\\n",
    "                    &= -\\frac{1}{2}\\big[2\\mu_{-1}^T\\Sigma^{-1}x-2\\mu_1^T\\Sigma^{-1}x+\\mu_1^T\\Sigma^{-1}\\mu_1-\\mu_{-1}^T\\Sigma^{-1}\\mu_{-1}\\big]  \\\\\n",
    "                    &= -\\frac{1}{2}\\big[2(\\mu_{-1}-\\mu_1)^T\\Sigma^{-1}x+\\mu_1^T\\Sigma^{-1}\\mu_1-\\mu_{-1}^T\\Sigma^{-1}\\mu_{-1}\\big]  \\\\\n",
    "                    &= (\\mu_1-\\mu_{-1})^T\\Sigma^{-1}x+\\frac12\\mu_{-1}^T\\Sigma^{-1}\\mu_{-1}-\\frac{1}{2}\\mu_1^T\\Sigma^{-1}\\mu_1  \\\\\n",
    "\\end{align*}\n",
    "\n",
    "Define\n",
    "\n",
    "\\begin{align*}\n",
    "\\theta &\\equiv \\Sigma^{-1}(\\mu_1-\\mu_{-1}) \\\\\n",
    "\\theta_0 &\\equiv \\frac12\\mu_{-1}^T\\Sigma^{-1}\\mu_{-1}-\\frac12\\mu_1^T\\Sigma^{-1}\\mu_1 - \\mathrm{ln}\\Big(\\frac{1 - \\phi}{\\phi}\\Big) \\\\\n",
    "\\end{align*}\n",
    "\n",
    "So \n",
    "\n",
    "\\begin{align*}\n",
    "\\theta^Tx + \\theta_0 &= \\big(\\Sigma^{-1}(\\mu_1-\\mu_{-1})\\big)^Tx + \\frac12\\mu_{-1}^T\\Sigma^{-1}\\mu_{-1}-\\frac12\\mu_1^T\\Sigma^{-1}\\mu_1 - \\mathrm{ln}\\Big(\\frac{1 - \\phi}{\\phi}\\Big) \\\\\n",
    "                    &= (\\mu_1-\\mu_{-1})^T\\Sigma^{-1}x + \\frac12\\mu_{-1}^T\\Sigma^{-1}\\mu_{-1}-\\frac12\\mu_1^T\\Sigma^{-1}\\mu_1 + \\mathrm{ln}\\Big(\\frac{\\phi}{1 - \\phi}\\Big) \\\\\n",
    "                    &= A - B + \\mathrm{ln}\\phi - \\mathrm{ln}(1 - \\phi)  \\\\\n",
    "\\end{align*}\n",
    "\n",
    "And (1) becomes\n",
    "\n",
    "$$p(y|x) = \\frac{1}{1 + e^{- y (A - B + \\mathrm{ln}\\phi - \\mathrm{ln}(1 - \\phi))}} = \\frac{1}{1 + e^{-y(\\theta^T x + \\theta_0)}}$$\n",
    "\n",
    "which is in the form of a logistic function."
   ]
  },
  {
   "cell_type": "markdown",
   "metadata": {},
   "source": [
    "# (b)\n",
    "\n",
    "We will handle this in part (c)"
   ]
  },
  {
   "cell_type": "markdown",
   "metadata": {},
   "source": [
    "# (c)"
   ]
  },
  {
   "cell_type": "markdown",
   "metadata": {},
   "source": [
    "First note that\n",
    "\n",
    "\\begin{align*} \n",
    "p(y)&=\\cases{\\theta&y=1\\\\1-\\theta&y=-1}\\\\\n",
    "    &=\\theta^{1\\{y=1\\}}(1-\\theta)^{1\\{y=-1\\}}\n",
    "\\end{align*}\n",
    "\n",
    "And the $\\ln$ of this is\n",
    "\n",
    "\\begin{align*} \n",
    "\\ln(p(y))&=\\ln(\\theta^{1\\{y=1\\}}(1-\\theta)^{1\\{y=-1\\}})\\\\\n",
    "    &=\\ln(\\theta^{1\\{y=1\\}}) + \\ln((1-\\theta)^{1\\{y=-1\\}})\\\\\n",
    "    &={1\\{y=1\\}}\\ln(\\theta) + {1\\{y=-1\\}}\\ln((1-\\theta))\n",
    "\\end{align*}\n",
    "\n",
    "Hence the log-likelihood is\n",
    "\n",
    "\\begin{align*} \n",
    "\\ell(\\phi,\\mu_{-1},\\mu_1,\\Sigma) &= \\mathrm{ln}\\prod_{i=1}^mp(x^{(i)},y^{(i)};\\phi,\\mu_{-1},\\mu_1,\\Sigma) \\\\\n",
    "     &= \\mathrm{ln}\\prod_{i=1}^mp(x^{(i)} | y^{(i)};\\phi,\\mu_{-1},\\mu_1,\\Sigma) p(y^{(i)};\\phi)\\\\\n",
    "     &= \\sum_{i=1}^m\\mathrm{ln}p(x^{(i)} | y^{(i)};\\phi,\\mu_{-1},\\mu_1,\\Sigma)+ \\sum_{i=1}^m\\mathrm{ln}p(y^{(i)};\\phi)\\\\\n",
    "     &\\approxeq \\sum_{i=1}^m\\big[\\frac12\\mathrm{ln}\\frac1{\\lvert\\Sigma\\rvert}-\\frac12(x^{(i)}-\\mu_{y^{(i)}})^T\\Sigma^{-1}(x^{(i)}-\\mu_{y^{(i)}})+{1\\{y^{(i)}=1\\}}\\ln(\\theta) + {1\\{y^{(i)}=-1\\}}\\ln((1-\\theta))\\big]\\tag{2}\n",
    "\\end{align*}"
   ]
  },
  {
   "cell_type": "markdown",
   "metadata": {},
   "source": [
    "To maximize the log-likelihood in $\\theta$, let's compute the partial derivative of (2) with respect to $\\theta$ and set it equal to zero:\n",
    "\n",
    "\\begin{align*} \n",
    "0=\\frac{\\partial\\ell}{\\partial\\theta} &= \\sum_{i=1}^m{1\\{y^{(i)}=1\\}}\\frac1{\\theta} - \\sum_{i=1}^m{1\\{y^{(i)}=-1\\}}\\frac1{1-\\theta}\\\\\n",
    "\\end{align*}\n",
    "\n",
    "Hence\n",
    "\n",
    "\\begin{align*} \n",
    "\\sum_{i=1}^m{1\\{y^{(i)}=-1\\}}\\frac1{1-\\theta} = \\sum_{i=1}^m{1\\{y^{(i)}=1\\}}\\frac1{\\theta}\\\\\n",
    "\\end{align*}\n",
    "\n",
    "Or\n",
    "\n",
    "\\begin{align*} \n",
    "\\frac1{1-\\theta}\\sum_{i=1}^m{1\\{y^{(i)}=-1\\}} = \\frac1{\\theta}\\sum_{i=1}^m{1\\{y^{(i)}=1\\}}\\\\\n",
    "\\end{align*}\n",
    "\n",
    "Multiplying both sides by $\\theta(1-\\theta)$, we get\n",
    "\n",
    "\\begin{align*} \n",
    "\\theta\\sum_{i=1}^m{1\\{y^{(i)}=-1\\}} &= (1-\\theta)\\sum_{i=1}^m{1\\{y^{(i)}=1\\}}\\\\\n",
    "    &= \\sum_{i=1}^m{1\\{y^{(i)}=1\\}} - \\theta\\sum_{i=1}^m{1\\{y^{(i)}=1\\}}\n",
    "\\end{align*}\n",
    "\n",
    "Hence\n",
    "\n",
    "\\begin{align*} \n",
    "\\sum_{i=1}^m{1\\{y^{(i)}=1\\}} &= \\theta\\sum_{i=1}^m{1\\{y^{(i)}=-1\\}} + \\theta\\sum_{i=1}^m{1\\{y^{(i)}=1\\}}\\\\\n",
    "    &= \\theta\\sum_{i=1}^m\\big[1\\{y^{(i)}=-1\\} + 1\\{y^{(i)}=1\\}\\big]\\\\\n",
    "    &= \\theta\\sum_{i=1}^m1\\\\\n",
    "    &= \\theta m\n",
    "\\end{align*}\n",
    "\n",
    "Hence\n",
    "\n",
    "\\begin{align*} \n",
    "\\theta = \\frac1m\\sum_{i=1}^m{1\\{y^{(i)}=1\\}}\n",
    "\\end{align*}"
   ]
  },
  {
   "cell_type": "markdown",
   "metadata": {
    "collapsed": true
   },
   "source": [
    "\n",
    "Now let's compute the gradient of (2) with respect to $\\mu_{-1}$:\n",
    "\n",
    "\\begin{align*} \n",
    "\\nabla_{\\mu_{-1}}\\ell &= -\\frac{1}{2}\\sum_{i=1}^m\\nabla_{\\mu_{-1}}(x^{(i)}-\\mu_{y^{(i)}})^T\\Sigma^{-1}(x^{(i)}-\\mu_{y^{(i)}})\\\\ \n",
    "    &= -\\frac{1}{2}\\sum_{i:y^{(i)}=-1}\\nabla_{\\mu_{-1}}(x^{(i)}-\\mu_{-1})^T\\Sigma^{-1}(x^{(i)}-\\mu_{-1})\\\\\n",
    "    &= -\\frac{1}{2}\\sum_{i:y^{(i)}=-1}\\nabla_{\\mu_{-1}}\\big[x^{(i)^T}\\Sigma^{-1}x^{(i)}-x^{(i)^T}\\Sigma^{-1}\\mu_{-1}-\\mu_{-1}^T\\Sigma^{-1}x^{(i)}+\\mu_{-1}^T\\Sigma^{-1}\\mu_{-1}\\big]\\\\\n",
    "    &= -\\frac12\\sum_{i:y^{(i)}=-1}\\nabla_{\\mu_{-1}}\\big[-x^{(i)^T}\\Sigma^{-1}\\mu_{-1}-\\mu_{-1}^T\\Sigma^{-1}x^{(i)}+\\mu_{-1}^T\\Sigma^{-1}\\mu_{-1}\\big]\\\\\n",
    "    &= -\\frac12\\sum_{i:y^{(i)}=-1}\\nabla_{\\mu_{-1}}\\big[-(x^{(i)^T}\\Sigma^{-1}\\mu_{-1})^T-\\mu_{-1}^T\\Sigma^{-1}x^{(i)}+\\mu_{-1}^T\\Sigma^{-1}\\mu_{-1}\\big]\\\\\n",
    "    &= -\\frac12\\sum_{i:y^{(i)}=-1}\\nabla_{\\mu_{-1}}\\big[-\\mu_{-1}^T\\Sigma^{-1}x^{(i)}-\\mu_{-1}^T\\Sigma^{-1}x^{(i)}+\\mu_{-1}^T\\Sigma^{-1}\\mu_{-1}\\big]\\\\\n",
    "    &= -\\frac12\\sum_{i:y^{(i)}=-1}\\nabla_{\\mu_{-1}}\\big[-2\\mu_{-1}^T\\Sigma^{-1}x^{(i)}+\\mu_{-1}^T\\Sigma^{-1}\\mu_{-1}\\big]\\\\\n",
    "    &= -\\frac12\\sum_{i:y^{(i)}=-1}\\nabla_{\\mu_{-1}}\\big[\\mu_{-1}^T\\Sigma^{-1}\\mu_{-1}-2\\mu_{-1}^T\\Sigma^{-1}x^{(i)}\\big]\\\\\n",
    "    &= -\\frac12\\sum_{i:y^{(i)}=-1}\\nabla_{\\mu_{-1}}tr\\big[\\mu_{-1}^T\\Sigma^{-1}\\mu_{-1}-2\\mu_{-1}^T\\Sigma^{-1}x^{(i)}\\big]\\\\\n",
    "    &= -\\frac12\\sum_{i:y^{(i)}=-1}\\nabla_{\\mu_{-1}}tr\\big[\\mu_{-1}^T\\Sigma^{-1}\\mu_{-1}\\big]-2\\nabla_{\\mu_{-1}}tr\\big[\\mu_{-1}^T\\Sigma^{-1}x^{(i)}\\big]\\tag{3}\n",
    "\\end{align*}\n",
    "\n",
    "Note that\n",
    "\n",
    "\\begin{align*} \n",
    "\\nabla_{\\mu_{-1}}tr(\\mu_{-1}^T\\Sigma^{-1}\\mu_{-1}) &= \\nabla_{(\\mu_{-1}^T)^T}tr(\\mu_{-1}^T\\Sigma^{-1}\\mu_{-1}) \\\\\n",
    "    &= \\big[\\nabla_{\\mu_{-1}^T}tr(\\mu_{-1}^T\\Sigma^{-1}\\mu_{-1}I)\\big]^T \\\\\n",
    "    &= \\big[\\mu_{-1}^T\\Sigma^{-1}+\\mu_{-1}^T\\Sigma^{-T}\\big]^T \\\\\n",
    "    &= \\big[\\mu_{-1}^T\\Sigma^{-T}+\\mu_{-1}^T\\Sigma^{-T}\\big]^T \\\\\n",
    "    &= 2\\big[\\mu_{-1}^T\\Sigma^{-T}\\big]^T \\\\\n",
    "    &= 2\\Sigma^{-1}\\mu_{-1} \\\\\n",
    "\\end{align*}\n",
    "\n",
    "Also note that\n",
    "\n",
    "\\begin{align*} \n",
    "\\nabla_{\\mu_{-1}}tr(\\mu_{-1}^T\\Sigma^{-1}x^{(i)}) &= \\nabla_{(\\mu_{-1}^T)^T}tr(\\mu_{-1}^T\\Sigma^{-1}x^{(i)}) \\\\\n",
    "    &= \\big[\\nabla_{\\mu_{-1}^T}tr(\\mu_{-1}^T\\Sigma^{-1}x^{(i)})\\big]^T \\\\\n",
    "    &= \\big[(\\Sigma^{-1}x^{(i)})^T\\big]^T \\\\\n",
    "    &= \\Sigma^{-1}x^{(i)} \\\\\n",
    "\\end{align*}\n",
    "\n",
    "Hence (3) becomes\n",
    "\n",
    "\\begin{align*} \n",
    "0 = \\nabla_{\\mu_{-1}}\\ell &= -\\frac12\\sum_{i:y^{(i)}=-1}[2\\Sigma^{-1}\\mu_{-1}-2\\Sigma^{-1}x^{(i)}] \\\\\n",
    "    &= \\sum_{i:y^{(i)}=-1}[\\Sigma^{-1}\\mu_{-1}-\\Sigma^{-1}x^{(i)}] \\\\\n",
    "    &= \\sum_{i=1}^m1\\{y^{(i)}=-1\\}[\\Sigma^{-1}x^{(i)}-\\Sigma^{-1}\\mu_{-1}] \\\\\n",
    "    &= \\Sigma^{-1}\\sum_{i=1}^m1\\{y^{(i)}=-1\\}(x^{(i)}-\\mu_{-1}) \\\\\n",
    "\\end{align*}\n",
    "\n",
    "Since $\\Sigma$ is invertible, then $\\Sigma^{-1}$ is invertible and the first equality follows:\n",
    "\n",
    "\\begin{align*} \n",
    "0 = \\sum_{i=1}^m1\\{y^{(i)}=-1\\}(x^{(i)}-\\mu_{-1}) = \\sum_{i=1}^m1\\{y^{(i)}=-1\\}x^{(i)}-\\sum_{i=1}^m1\\{y^{(i)}=-1\\}\\mu_{-1} \\\\\n",
    "\\end{align*}\n",
    "\n",
    "Or\n",
    "\n",
    "\\begin{align*} \n",
    "\\mu_{-1}\\sum_{i=1}^m1\\{y^{(i)}=-1\\} = \\sum_{i=1}^m1\\{y^{(i)}=-1\\}\\mu_{-1} = \\sum_{i=1}^m1\\{y^{(i)}=-1\\}x^{(i)}\\\\\n",
    "\\end{align*}\n",
    "\n",
    "Or\n",
    "\n",
    "\\begin{align*} \n",
    "\\mu_{-1} = \\frac{\\sum_{i=1}^m1\\{y^{(i)}=-1\\}x^{(i)}}{\\sum_{i=1}^m1\\{y^{(i)}=-1\\}}\\\\\n",
    "\\end{align*}\n",
    "\n",
    "The computation for $\\mu_1$ is similar."
   ]
  },
  {
   "cell_type": "markdown",
   "metadata": {},
   "source": [
    "Given the following result proved in Problem-set 0, \n",
    "\n",
    "$$\\nabla_x x^TAx = 2Ax$$"
   ]
  },
  {
   "cell_type": "markdown",
   "metadata": {},
   "source": [
    "According to http://cs229.stanford.edu/section/cs229-linalg.pdf:\n",
    "\n",
    "\\begin{align*} \n",
    "\\nabla_{A} \\mathrm{log}|A| &= \\frac{1}{|A|} \\nabla_{A}|A| = A^{-1}\n",
    "\\end{align*}\n",
    "\n",
    "and according to Eq. 13.42 in https://people.eecs.berkeley.edu/~jordan/courses/260-spring10/other-readings/chapter13.pdf:\n",
    "\n",
    "\\begin{align*} \n",
    "\\nabla_{A} x^T A x &= xx^T \\\\\n",
    "\\end{align*}"
   ]
  },
  {
   "cell_type": "markdown",
   "metadata": {},
   "source": [
    "With these two pieces of results, let's do $\\nabla_{\\Sigma^{-1}}l$ instead of $\\nabla_{\\Sigma} l$, by part:\n",
    "\n",
    "Part 1: \n",
    "\n",
    "\\begin{align*} \n",
    "\\nabla_{\\Sigma^{-1}} (-\\frac{m}{2}\\mathrm{log}(|\\Sigma|)) = \n",
    "    &= \\nabla_{\\Sigma^{-1}} (\\frac{m}{2}\\mathrm{log}(|\\Sigma^{-1}|))  \\\\\n",
    "    &= \\frac{m}{2}(\\Sigma^{-1})^{-1} \\\\\n",
    "    &= \\frac{m}{2}\\Sigma\n",
    "\\end{align*}\n",
    "\n",
    "Here, we also used the result that the determinant of inverse is equal to the inverse of determinant. "
   ]
  },
  {
   "cell_type": "markdown",
   "metadata": {},
   "source": [
    "Part 2:\n",
    "\n",
    "\\begin{align*} \n",
    "\\nabla_{\\Sigma^{-1}} \\bigg( - \\sum_{i=1}^{m_1} \\bigg(\\frac{1}{2}(x^{(i)} - \\mu_{1})^T \\Sigma^{-1} (x^{(i)} - \\mu_{1}) \\bigg) - \\sum_{i=1}^{m_{-1}} \\bigg(\\frac{1}{2}(x^{(i)} - \\mu_{-1})^T \\Sigma^{-1} (x^{(i)} - \\mu_{-1}) \\bigg) \\bigg ) \n",
    "    &= - \\sum_{i=1}^{m_1} \\bigg(\\frac{1}{2}(x^{(i)} - \\mu_{1}) (x^{(i)} - \\mu_{1})^T \\bigg) - \\sum_{i=1}^{m_{-1}} \\bigg(\\frac{1}{2}(x^{(i)} - \\mu_{-1}) (x^{(i)} - \\mu_{-1})^T \\bigg)   \\\\\n",
    "    &= - \\frac{1}{2} \\sum_{i=1}^{m} (x^{(i)} - \\mu_{y^{(i)}}) (x^{(i)} - \\mu_{y^{(i)}})^T   \\\\\n",
    "\\end{align*}"
   ]
  },
  {
   "cell_type": "markdown",
   "metadata": {},
   "source": [
    "Aggregate the two parts and let it be $0$:\n",
    "\n",
    "\\begin{align*}\n",
    "\\frac{m}{2}\\Sigma - \\frac{1}{2} \\sum_{i=1}^{m} (x^{(i)} - \\mu_{y^{(i)}}) (x^{(i)} - \\mu_{y^{(i)}})^T &= 0 \\\\\n",
    "\\Sigma = \\frac{1}{m} \\sum_{i=1}^{m} (x^{(i)} - \\mu_{y^{(i)}}) (x^{(i)} - \\mu_{y^{(i)}})^T\n",
    "\\end{align*}"
   ]
  },
  {
   "cell_type": "code",
   "execution_count": null,
   "metadata": {
    "collapsed": true
   },
   "outputs": [],
   "source": []
  }
 ],
 "metadata": {
  "kernelspec": {
   "display_name": "Python 3",
   "language": "python",
   "name": "python3"
  },
  "language_info": {
   "codemirror_mode": {
    "name": "ipython",
    "version": 3
   },
   "file_extension": ".py",
   "mimetype": "text/x-python",
   "name": "python",
   "nbconvert_exporter": "python",
   "pygments_lexer": "ipython3",
   "version": "3.6.1"
  }
 },
 "nbformat": 4,
 "nbformat_minor": 1
}
