{
 "cells": [
  {
   "cell_type": "markdown",
   "metadata": {},
   "source": [
    "## Ex.1\n",
    "\n",
    "Define $f(x)\\equiv c_1x_1+c_2x_2$. Then\n",
    "\n",
    "\\begin{align*} \n",
    "\\frac{\\partial f(x)}{\\partial x_i}=\\frac{\\partial(c_1x_1+c_2x_2)}{\\partial x_i}=c_i\n",
    "\\end{align*}\n",
    "\n",
    "Let $A$ be a 2x2 matrix. Define g(x)=f(Ax). Then\n",
    "\n",
    "\\begin{align*} \n",
    "g(x)=f(Ax) &= f\\Bigg(\\begin{bmatrix}a_{11}&a_{12}\\\\a_{21}&a_{22}\\end{bmatrix}\\begin{bmatrix}x_1\\\\x_2\\end{bmatrix}\\Bigg) \\\\\n",
    "    &= f\\Bigg(\\begin{bmatrix}a_{11}x_1+a_{12}x_2\\\\a_{21}x_1+a_{22}x_2\\end{bmatrix}\\Bigg) \\\\\n",
    "    &= f\\Bigg(\\begin{bmatrix}(Ax)_1\\\\(Ax)_2\\end{bmatrix}\\Bigg) \\\\\n",
    "    &= c_1(Ax)_1+c_2(Ax)_2 \\\\\n",
    "    &= c_1(a_{11}x_1+a_{12}x_2)+c_2(a_{21}x_1+a_{22}x_2)\n",
    "\\end{align*}\n",
    "\n",
    "Hence\n",
    "\n",
    "\\begin{align*} \n",
    "\\frac{\\partial g(x)}{\\partial x_1}=c_1a_{11}+c_2a_{21}\n",
    "\\end{align*}\n",
    "\n",
    "or we can notice that $Ax$ is a vector-valued function of $x_1$ and use the chain rule:\n",
    "\n",
    "\\begin{align*} \n",
    "\\frac{\\partial g(x)}{\\partial x_1} &= \\nabla_{(Ax)}f(Ax)\\cdot\\frac{\\partial (Ax)}{\\partial x_1} \\\\\n",
    "    &= \\begin{bmatrix}\\frac{\\partial f(Ax)}{\\partial (Ax)_1}\\\\ \\frac{\\partial f(Ax)}{\\partial (Ax)_2}\\end{bmatrix}\\cdot\\begin{bmatrix}\\frac{\\partial(Ax)_1}{\\partial x_1}\\\\\\frac{\\partial(Ax)_2}{\\partial x_1}\\end{bmatrix} \\\\\n",
    "    &= \\sum_{k=1}^2\\frac{\\partial f(Ax)}{\\partial(Ax)_k}\\frac{\\partial(Ax)_k}{\\partial x_1} \\\\\n",
    "    &= \\frac{\\partial f(Ax)}{\\partial(Ax)_1}\\frac{\\partial(Ax)_1}{\\partial x_1}+\\frac{\\partial f(Ax)}{\\partial(Ax)_2}\\frac{\\partial(Ax)_2}{\\partial x_1} \\\\\n",
    "    &= \\frac{\\partial[c_1(Ax)_1+c_2(Ax)_2]}{\\partial(Ax)_1}\\frac{\\partial[a_{11}x_1+a_{12}x_2]}{\\partial x_1}+\\frac{\\partial [c_1(Ax)_1+c_2(Ax)_2]}{\\partial(Ax)_2}\\frac{\\partial[a_{21}x_1+a_{22}x_2]}{\\partial x_1} \\\\\n",
    "    &= c_1a_{11}+c_2a_{21}\n",
    "\\end{align*}"
   ]
  },
  {
   "cell_type": "markdown",
   "metadata": {},
   "source": [
    "## Ex.2\n",
    "\n",
    "Define $f(x)\\equiv x_1x_2$. Then\n",
    "\n",
    "\\begin{align*} \n",
    "\\frac{\\partial f(x)}{\\partial x_1}=\\frac{\\partial(x_1x_2)}{\\partial x_i}=x_2\n",
    "\\end{align*}\n",
    "\n",
    "Let $A$ be a 2x2 matrix. Define g(x)=f(Ax). Then\n",
    "\n",
    "\\begin{align*} \n",
    "g(x)=f(Ax) &= f\\Bigg(\\begin{bmatrix}a_{11}&a_{12}\\\\a_{21}&a_{22}\\end{bmatrix}\\begin{bmatrix}x_1\\\\x_2\\end{bmatrix}\\Bigg) \\\\\n",
    "    &= f\\Bigg(\\begin{bmatrix}a_{11}x_1+a_{12}x_2\\\\a_{21}x_1+a_{22}x_2\\end{bmatrix}\\Bigg) \\\\\n",
    "    &= f\\Bigg(\\begin{bmatrix}(Ax)_1\\\\(Ax)_2\\end{bmatrix}\\Bigg) \\\\\n",
    "    &= (Ax)_1(Ax)_2 \\\\\n",
    "    &= (a_{11}x_1+a_{12}x_2)(a_{21}x_1+a_{22}x_2) \\\\\n",
    "    &= a_{11}x_1a_{21}x_1+a_{11}x_1a_{22}x_2+a_{12}x_2a_{21}x_1+a_{12}x_2a_{22}x_2 \\\\\n",
    "    &= a_{11}a_{21}x_1^2+a_{11}x_1a_{22}x_2+a_{12}x_2a_{21}x_1+a_{12}a_{22}x_2^2\n",
    "\\end{align*}\n",
    "\n",
    "Hence\n",
    "\n",
    "\\begin{align*} \n",
    "\\frac{\\partial g(x)}{\\partial x_1}=2a_{11}a_{21}x_1+a_{11}a_{22}x_2+a_{12}x_2a_{21}\n",
    "\\end{align*}\n",
    "\n",
    "or we can notice that $Ax$ is a vector-valued function of $x_1$ and use the chain rule:\n",
    "\n",
    "\\begin{align*} \n",
    "\\frac{\\partial g(x)}{\\partial x_1} &= \\nabla_{(Ax)}f(Ax)\\cdot\\frac{\\partial (Ax)}{\\partial x_1} \\\\\n",
    "    &= \\begin{bmatrix}\\frac{\\partial f(Ax)}{\\partial (Ax)_1}\\\\ \\frac{\\partial f(Ax)}{\\partial (Ax)_2}\\end{bmatrix}\\cdot\\begin{bmatrix}\\frac{\\partial(Ax)_1}{\\partial x_1}\\\\\\frac{\\partial(Ax)_2}{\\partial x_1}\\end{bmatrix} \\\\\n",
    "    &= \\sum_{k=1}^2\\frac{\\partial f(Ax)}{\\partial(Ax)_k}\\frac{\\partial(Ax)_k}{\\partial x_1} \\\\\n",
    "    &= \\frac{\\partial f(Ax)}{\\partial(Ax)_1}\\frac{\\partial(Ax)_1}{\\partial x_1}+\\frac{\\partial f(Ax)}{\\partial(Ax)_2}\\frac{\\partial(Ax)_2}{\\partial x_1} \\\\\n",
    "    &= \\frac{\\partial[(Ax)_1(Ax)_2]}{\\partial(Ax)_1}\\frac{\\partial[a_{11}x_1+a_{12}x_2]}{\\partial x_1}+\\frac{\\partial [(Ax)_1(Ax)_2]}{\\partial(Ax)_2}\\frac{\\partial[a_{21}x_1+a_{22}x_2]}{\\partial x_1} \\\\\n",
    "    &= (Ax)_2a_{11}+(Ax)_1a_{21} \\\\\n",
    "    &= (a_{21}x_1+a_{22}x_2)a_{11}+(a_{11}x_1+a_{12}x_2)a_{21} \\\\\n",
    "    &= a_{11}a_{21}x_1+a_{11}a_{22}x_2+a_{11}a_{21}x_1+a_{12}a_{21}x_2 \\\\\n",
    "    &= 2a_{11}a_{21}x_1+a_{11}a_{22}x_2+a_{12}a_{21}x_2\n",
    "\\end{align*}"
   ]
  },
  {
   "cell_type": "code",
   "execution_count": null,
   "metadata": {
    "collapsed": true
   },
   "outputs": [],
   "source": []
  }
 ],
 "metadata": {
  "kernelspec": {
   "display_name": "Python 3",
   "language": "python",
   "name": "python3"
  },
  "language_info": {
   "codemirror_mode": {
    "name": "ipython",
    "version": 3
   },
   "file_extension": ".py",
   "mimetype": "text/x-python",
   "name": "python",
   "nbconvert_exporter": "python",
   "pygments_lexer": "ipython3",
   "version": "3.6.1"
  }
 },
 "nbformat": 4,
 "nbformat_minor": 2
}
