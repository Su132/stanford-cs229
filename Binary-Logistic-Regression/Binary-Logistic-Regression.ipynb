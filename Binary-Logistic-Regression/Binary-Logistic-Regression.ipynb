{
 "cells": [
  {
   "cell_type": "code",
   "execution_count": 1,
   "metadata": {
    "collapsed": true
   },
   "outputs": [],
   "source": [
    "import numpy as np\n",
    "from scipy.stats import norm as normal\n",
    "import matplotlib.pyplot as plt\n",
    "import time\n",
    "%matplotlib inline\n",
    "\n",
    "def graphs(functions, x_ranges, format_str='r-', lw=1., plts_per_row=4):\n",
    "    if len(functions) != len(x_ranges):\n",
    "        raise ValueError(\"The number of functions ({}) doesn't equal the number of x ranges ({}).\"\n",
    "                         .format(len(functions), len(x_ranges)))\n",
    "    numb_plots = len(functions)\n",
    "    nrows = numb_plots // plts_per_row + (0 if numb_plots % plts_per_row == 0 else 1)\n",
    "    fig, axes = plt.subplots(nrows=nrows, ncols=plts_per_row, sharex=False, sharey=True,\n",
    "                             figsize=(20 * (plts_per_row/4), (4/plts_per_row) * np.log(1 + np.exp(nrows+plts_per_row))))\n",
    "    if numb_plots > 1: axes = axes.ravel()\n",
    "\n",
    "    for k, fx in enumerate(zip(functions, x_ranges)):\n",
    "        f, x_range = fx[0], np.array(fx[1])\n",
    "        ax = axes[k] if numb_plots > 1 else axes\n",
    "        ax.plot(x_range, f(x_range), format_str, lw=lw)\n",
    "\n",
    "def graphs_1plt(functions, labels, x_range, lw=1.):\n",
    "    if len(functions) != len(labels):\n",
    "        raise ValueError(\"The number of functions ({}) doesn't equal the number of labels ({}).\"\n",
    "                         .format(len(functions), len(labels)))\n",
    "    for fl in zip(functions, labels):\n",
    "        f, label = fl[0], np.array(fl[1])\n",
    "        plt.plot(x_range, f(x_range), lw=lw, label=label)\n",
    "        plt.legend()"
   ]
  },
  {
   "cell_type": "markdown",
   "metadata": {},
   "source": [
    "From class-notes-1, p.16-19:\n",
    "\n",
    "The __sigmoid__ or __logistic function__ is\n",
    "\n",
    "$$\n",
    "g(z)\\equiv\\frac{1}{1+e^{-z}}\n",
    "$$\n",
    "\n",
    "This function __squashes__ the real line to the open interval $(0,1)$:"
   ]
  },
  {
   "cell_type": "code",
   "execution_count": 2,
   "metadata": {},
   "outputs": [
    {
     "data": {
      "image/png": "[encoded data removed]",
      "text/plain": [
       "<matplotlib.figure.Figure at 0x10bebc048>"
      ]
     },
     "metadata": {},
     "output_type": "display_data"
    }
   ],
   "source": [
    "def sigmoid(z):\n",
    "    # we want to prevent overflow in np.exp(), so we first clip z\n",
    "    signal = np.clip(z, -700, 700)\n",
    "    return 1. / (1 + np.exp(-signal))\n",
    "\n",
    "zs = [np.linspace(-i,i) for i in [3,6,10,100,1000]]\n",
    "fs = len(zs)*[sigmoid]\n",
    "graphs(fs, zs, plts_per_row=3)"
   ]
  },
  {
   "cell_type": "markdown",
   "metadata": {},
   "source": [
    "The sigmoid has some important properties:\n",
    "\n",
    "$$\\begin{gather}\n",
    "0 < g(z) < 1\\quad\\text{for all }z\\in\\mathbb{R}\\tag{Sigmoid.1}\\\\\\\\\n",
    "\\lim_{z\\rightarrow-\\infty}g(z)=0\\tag{Sigmoid.2}\\\\\\\\\n",
    "\\lim_{z\\rightarrow\\infty}g(z)=1\\tag{Sigmoid.3}\\\\\\\\\n",
    "g(0)=\\frac{1}{2}\\tag{Sigmoid.4}\\\\\\\\\n",
    "g(-z)=1-g(z)\\tag{Sigmoid.5}\\\\\\\\\n",
    "\\frac{d}{dz}g(z)=g(z)(1-g(z))\\tag{Sigmoid.6}\\\\\\\\\n",
    "\\end{gather}$$\n",
    "\n",
    "The first three properties make the sigmoid a cumulative distribution function.\n",
    "\n",
    "Sigmoid.1 follows because: we see that $g>0$ since the denominator $1+e^{-z}$ is positive for all $z$. To show that $g(z)<1$ for all $z\\in\\mathbb{R}$, we want to show that $1+e^{-z}=\\frac{1}{g(z)}>1$ for all $z\\in\\mathbb{R}$. This is equivalent to showing that $e^{-z}>0$ for all $z\\in\\mathbb{R}$, which we know is true.\n",
    "\n",
    "Sigmoid.2 follows because:\n",
    "\n",
    "$$\n",
    "\\lim_{z\\rightarrow-\\infty}g(z)=\\frac{1}{1+\\lim_{z\\rightarrow-\\infty}e^{-z}}=\\frac{1}{1+e^{--\\infty}}=\\frac{1}{1+e^{\\infty}}=\\frac{1}{1+\\infty}=0\n",
    "$$\n",
    "\n",
    "Sigmoid.3 follows because: \n",
    "\n",
    "$$\n",
    "\\lim_{z\\rightarrow\\infty}g(z)=\\frac{1}{1+\\lim_{z\\rightarrow\\infty}e^{-z}}=\\frac{1}{1+e^{-\\infty}}=\\frac{1}{1+0}=1\n",
    "$$\n",
    "\n",
    "Sigmoid.4 follows because $g(0)=\\frac{1}{1+e^{-0}}=\\frac{1}{1+1}=\\frac{1}{2}$.\n",
    "\n",
    "Sigmoid.5 follows because: \n",
    "\n",
    "$$\n",
    "g(-z)=\\frac{1}{1+e^{--z}}=\\frac{1}{1+e^{z}}=\\frac{e^{-z}}{e^{-z}(1+e^{z})}=\\frac{1+e^{-z}-1}{1+e^{-z}}=1-\\frac{1}{1+e^{-z}}=1-g(z)\n",
    "$$\n",
    "\n",
    "Sigmoid.6 follows because:\n",
    "\n",
    "$$\n",
    "\\frac{d}{dz}g(z) =\\frac{d\\big(\\frac{1}{1 + e^{-z}}\\big)}{dz}  \n",
    "                              =\\frac{0 - 1 \\cdot\\frac{d(1 + e^{-z})}{dz}}{(1 + e^{-z})^2} \n",
    "                              =\\frac{--e^{-z}}{(1 + e^{-z})^2}\n",
    "                              =\\frac{e^{-z}}{(1 + e^{-z})^2} \n",
    "                              =\\frac{1}{1 + e^{-z}} \\cdot \\frac{e^{-z}}{1 + e^{-z}}\n",
    "                              =g(z) \\cdot \\frac{1+e^{-z}-1}{1 + e^{-z}}\n",
    "                              =g(z)(1 - g(z))\n",
    "$$\n",
    "\n",
    "Since the sigmoid is a CDF, its derivative is a probability density function. It's interesting to compare its graph to that of the normal:"
   ]
  },
  {
   "cell_type": "code",
   "execution_count": 3,
   "metadata": {},
   "outputs": [
    {
     "data": {
      "image/png": "[encoded data removed]",
      "text/plain": [
       "<matplotlib.figure.Figure at 0x114319128>"
      ]
     },
     "metadata": {},
     "output_type": "display_data"
    }
   ],
   "source": [
    "def sigmoid_grad(z):\n",
    "    s = sigmoid(z)\n",
    "    return s * (1 - s)\n",
    "\n",
    "fs = [sigmoid_grad, normal(0,1.6).pdf]\n",
    "labels = ['sigmoid derivative', 'normal']\n",
    "\n",
    "graphs_1plt(fs, labels, np.linspace(-5, 5))"
   ]
  },
  {
   "cell_type": "markdown",
   "metadata": {},
   "source": [
    "We are given training data $X$ and $y$:\n",
    "\n",
    "$$\n",
    "X = \\begin{bmatrix}x_0^{(1)}&\\dots&x_n^{(1)}\\\\\\vdots&\\ddots&\\vdots\\\\x_0^{(m)}&\\dots&x_n^{(m)}\\end{bmatrix}\n",
    "=\\begin{bmatrix}(x^{(1)})^T\\\\\\vdots\\\\(x^{(m)})^T\\end{bmatrix}\n",
    "\\quad\\quad\n",
    "y=\\begin{bmatrix}y^{(1)}\\\\\\vdots\\\\y^{(m)}\\end{bmatrix}\n",
    "$$\n",
    "\n",
    "where $x_0^{(i)}=1$ for all $i$ and $y^{(i)}\\in\\{0,1\\}$ for all $i$. What is the probability distribution of the $y^{(i)}$'s given the $x^{(i)}$'s? The joint probability is given by $P(y|X;\\theta)$. This quantity is typically viewed a function of $y$ (and perhaps $X$),\n",
    "for a fixed value of $\\theta$. When we wish to explicitly view this as a function of $\\theta$, we will instead call it the likelihood function:\n",
    "\n",
    "$$\n",
    "L(\\theta)=L(\\theta;X,y) = P(y|X;\\theta)\n",
    "$$\n",
    "\n",
    "We assume that $y$ is conditionally independent given $X$:\n",
    "\n",
    "$$\n",
    "L(\\theta)=P(y|X;\\theta)=\\prod_{i=1}^{m}P(y^{(i)}|x^{(i)};\\theta)\\tag{BLR.1}\n",
    "$$\n",
    "\n",
    "The principal of maximum likelihood says that we should should choose $\\theta$ so as to make the data as high probability as possible. I.e., we should choose $\\theta$ to maximize $L(\\theta)$.\n",
    "\n",
    "We define the hypothesis (the function to be learned from the training) as\n",
    "\n",
    "$$\n",
    "h_\\theta(x)\\equiv g(\\theta^Tx)=\\frac{1}{1+e^{-\\theta^Tx}}\n",
    "$$\n",
    "\n",
    "and we assume that\n",
    "\n",
    "$$\\begin{gather}\n",
    "P(y^{(i)}=1|x^{(i)};\\theta) = h_\\theta(x^{(i)})\\\\\\\\\n",
    "P(y^{(i)}=0|x^{(i)};\\theta) = 1-h_\\theta(x^{(i)})\\\\\\\\\n",
    "\\end{gather}$$\n",
    "\n",
    "This can be written more compactly:\n",
    "\n",
    "$$\n",
    "P(y^{(i)}|x^{(i)};\\theta) = \\big(h_\\theta(x^{(i)})\\big)^{y^{(i)}}\\big(1-h_\\theta(x^{(i)})\\big)^{1-y^{(i)}}\n",
    "$$\n",
    "\n",
    "Then BLR.1 becomes\n",
    "\n",
    "$$\n",
    "L(\\theta)=P(y|X;\\theta)=\\prod_{i=1}^{m}P(y^{(i)}|x^{(i)};\\theta)=\\prod_{i=1}^{m}\\big(h_\\theta(x^{(i)})\\big)^{y^{(i)}}\\big(1-h_\\theta(x^{(i)})\\big)^{1-y^{(i)}}\\tag{BLR.2}\n",
    "$$\n",
    "\n",
    "As usual, it is easier to maximize the log-likelihood:\n",
    "\n",
    "$$\\begin{align*}\n",
    "\\ell(\\theta)=\\log[L(\\theta)]&=\\sum_{i=1}^{m}\\log\\big[\\big(h_\\theta(x^{(i)})\\big)^{y^{(i)}}\\big(1-h_\\theta(x^{(i)})\\big)^{1-y^{(i)}}\\big]\\\\\n",
    "    &=\\sum_{i=1}^{m}\\log\\big[\\big(h_\\theta(x^{(i)})\\big)^{y^{(i)}}\\big]+\\log\\big[\\big(1-h_\\theta(x^{(i)})\\big)^{1-y^{(i)}}\\big]\\\\\n",
    "    &=\\sum_{i=1}^{m}y^{(i)}\\log\\big(h_\\theta(x^{(i)})\\big)+(1-y^{(i)})\\log\\big(1-h_\\theta(x^{(i)})\\big)\\tag{BLR.3}\n",
    "\\end{align*}$$\n",
    "\n",
    "Set $z^{(i)}\\equiv\\theta^Tx^{(i)}$. Then maximizing the log-likelihood is the same as minimizing this objective function:\n",
    "\n",
    "$$\\begin{align*}\n",
    "J(\\theta)\\equiv-\\frac{1}{m}\\ell(\\theta)&=-\\frac{1}{m}\\sum_{i=1}^{m}y^{(i)}\\log\\big(h_\\theta(x^{(i)})\\big)+(1-y^{(i)})\\log\\big(1-h_\\theta(x^{(i)})\\big)\\\\\n",
    "    &=-\\frac{1}{m}\\sum_{i=1}^{m}y^{(i)}\\log g(z^{(i)})+(1-y^{(i)})\\log\\big(1-g(z^{(i)})\\big)\\\\\n",
    "    &=-\\frac{1}{m}\\sum_{i=1}^{m}y^{(i)}\\log g(z^{(i)})+(1-y^{(i)})\\log g(-z^{(i)})\\\\\n",
    "    &=-\\frac{1}{m}\\sum_{i=1}^{m}y^{(i)}\\log g(z^{(i)})+\\log g(-z^{(i)})-y^{(i)}\\log g(-z^{(i)})\\\\\n",
    "    &=-\\frac{1}{m}\\sum_{i=1}^{m}y^{(i)}\\big[\\log g(z^{(i)})-\\log\\big(g(-z^{(i)})\\big)\\big]+\\log g(-z^{(i)})\\\\\n",
    "    &=-\\frac{1}{m}\\sum_{i=1}^{m}y^{(i)}\\log\\frac{g(z^{(i)})}{g(-z^{(i)})}+\\log g(-z^{(i)})\\\\\n",
    "    &=-\\frac{1}{m}\\sum_{i=1}^{m}y^{(i)}\\log\\Big(g(z^{(i)})\\frac{1}{g(-z^{(i)})}\\Big)+\\log g(-z^{(i)})\\\\\n",
    "    &=-\\frac{1}{m}\\sum_{i=1}^{m}y^{(i)}\\log\\Big(\\frac{1}{1+e^{-z^{(i)}}}\\frac{1}{\\frac{1}{1+e^{z^{(i)}}}}\\Big)+\\log g(-z^{(i)})\\\\\n",
    "    &=-\\frac{1}{m}\\sum_{i=1}^{m}y^{(i)}\\log\\Big(\\frac{1}{1+e^{-z^{(i)}}}\\frac{1+e^{z^{(i)}}}{1}\\Big)+\\log g(-z^{(i)})\\\\\n",
    "    &=-\\frac{1}{m}\\sum_{i=1}^{m}y^{(i)}\\log\\Big(\\frac{1+e^{z^{(i)}}}{1+e^{-z^{(i)}}}\\Big)+\\log g(-z^{(i)})\\\\\n",
    "    &=-\\frac{1}{m}\\sum_{i=1}^{m}y^{(i)}\\log\\Big(\\frac{e^{z^{(i)}}(e^{-z^{(i)}}+1)}{1+e^{-z^{(i)}}}\\Big)+\\log g(-z^{(i)})\\\\\n",
    "    &=-\\frac{1}{m}\\sum_{i=1}^{m}y^{(i)}\\log\\big(e^{z^{(i)}}\\big)+\\log g(-z^{(i)})\\\\\n",
    "    &=-\\frac{1}{m}\\sum_{i=1}^{m}y^{(i)}z^{(i)}+\\log g(-z^{(i)})\\\\\n",
    "    &=-\\frac{1}{m}\\sum_{i=1}^{m}y^{(i)}\\theta^Tx^{(i)}+\\log \\frac{1}{1+e^{z^{(i)}}}\\\\\n",
    "    &=\\frac{1}{m}\\sum_{i=1}^{m}-y^{(i)}\\theta^Tx^{(i)}-\\log \\frac{1}{1+e^{z^{(i)}}}\\\\\n",
    "    &=\\frac{1}{m}\\sum_{i=1}^{m}-y^{(i)}\\theta^Tx^{(i)}+\\log\\Big(\\Big[\\frac{1}{1+e^{z^{(i)}}}\\Big]^{-1}\\Big)\\\\\n",
    "    &=\\frac{1}{m}\\sum_{i=1}^{m}-y^{(i)}\\theta^Tx^{(i)}+\\log (1+e^{z^{(i)}})\\\\\n",
    "    &=\\frac{1}{m}\\sum_{i=1}^{m}\\log(1+e^{\\theta^Tx^{(i)}})-y^{(i)}\\theta^Tx^{(i)}\\\\\n",
    "\\end{align*}$$\n",
    "\n",
    "Succintly, we have\n",
    "\n",
    "$$\n",
    "J(\\theta)\\equiv-\\frac{1}{m}\\ell(\\theta)=\\frac{1}{m}\\sum_{i=1}^{m}\\log(1+e^{\\theta^Tx^{(i)}})-y^{(i)}\\theta^Tx^{(i)}\\tag{BLR.4}\\\\\n",
    "$$\n",
    "\n",
    "NOTE: $J(\\theta)\\equiv-\\frac{1}{m}\\ell(\\theta)$ is called the negative-log-likelihood objective function. The scaling  term $\\frac{1}{m}$ is optional.\n",
    "\n",
    "Let's take a partial derivative of a single observation:\n",
    "\n",
    "$$\\begin{align*}\n",
    "\\frac{\\partial}{\\partial \\theta_j}\\big(\\log(1+e^{\\theta^Tx^{(i)}})-y^{(i)}\\theta^Tx^{(i)}\\big) &= \\frac{1}{1+e^{\\theta^Tx^{(i)}}}e^{\\theta^Tx^{(i)}}x_j^{(i)}-y^{(i)}x_j^{(i)}\\\\\\\\\n",
    "     &= \\frac{e^{\\theta^Tx^{(i)}}}{1+e^{\\theta^Tx^{(i)}}}x_j^{(i)}-y^{(i)}x_j^{(i)}\\\\\\\\\n",
    "     &= \\frac{e^{-\\theta^Tx^{(i)}}e^{\\theta^Tx^{(i)}}}{e^{-\\theta^Tx^{(i)}}(1+e^{\\theta^Tx^{(i)}})}x_j^{(i)}-y^{(i)}x_j^{(i)}\\\\\\\\\n",
    "     &= \\frac{1}{1+e^{-\\theta^Tx^{(i)}}}x_j^{(i)}-y^{(i)}x_j^{(i)}\\\\\\\\\n",
    "     &= g(\\theta^Tx^{(i)})x_j^{(i)}-y^{(i)}x_j^{(i)}\\\\\\\\\n",
    "     &= \\big(g(\\theta^Tx^{(i)})-y^{(i)}\\big)x_j^{(i)}\\\\\\\\\n",
    "\\end{align*}$$\n",
    "\n",
    "So we have\n",
    "\n",
    "$$\\begin{align*}\n",
    "\\frac{\\partial}{\\partial \\theta_j}J(\\theta) &= \\frac{1}{m}\\sum_{i=1}^{m}\\big(g(\\theta^Tx^{(i)})-y^{(i)}\\big)x_j^{(i)}\\\\\n",
    "\\end{align*}$$\n",
    "\n",
    "Note that for $a^{(i)}\\in\\mathbb{R}$ and $b^{(i)}\\in\\mathbb{R}^2$, we have\n",
    "\n",
    "$$\\begin{align*}\n",
    "\\begin{bmatrix}\\sum_{i=1}^{2}a^{(i)}b_1^{(i)}\\\\\\sum_{i=1}^{2}a^{(i)}b_2^{(i)}\\end{bmatrix} &= \\begin{bmatrix}a^{(1)}b_1^{(1)}+a^{(2)}b_1^{(2)}\\\\a^{(1)}b_2^{(1)}+a^{(2)}b_2^{(2)}\\end{bmatrix}\\\\\\\\\n",
    "    &= \\begin{bmatrix}a^{(1)}b_1^{(1)}\\\\a^{(1)}b_2^{(1)}\\end{bmatrix}+\\begin{bmatrix}a^{(2)}b_1^{(2)}\\\\a^{(2)}b_2^{(2)}\\end{bmatrix}\\\\\\\\\n",
    "    &= a^{(1)}\\begin{bmatrix}b_1^{(1)}\\\\b_2^{(1)}\\end{bmatrix}+a^{(2)}\\begin{bmatrix}b_1^{(2)}\\\\b_2^{(2)}\\end{bmatrix}\\\\\\\\\n",
    "    &=a^{(1)}b^{(1)}+a^{(2)}b^{(2)}\\\\\\\\\n",
    "    &=\\sum_{i=1}^{2}a^{(i)}b^{(i)}\\tag{BLR.5}\n",
    "\\end{align*}$$\n",
    "\n",
    "Hence\n",
    "\n",
    "$$\\begin{align*}\n",
    "\\nabla J(\\theta) &= \\begin{bmatrix}\\frac{1}{m}\\sum_{i=1}^{m}\\big(g(\\theta^Tx^{(i)})-y^{(i)}\\big)x_0^{(i)}\\\\\\vdots\\\\\\frac{1}{m}\\sum_{i=1}^{m}\\big(g(\\theta^Tx^{(i)})-y^{(i)}\\big)x_n^{(i)}\\end{bmatrix}\\\\\\\\\n",
    "     &= \\frac{1}{m}\\sum_{i=1}^{m}\\big(g(\\theta^Tx^{(i)})-y^{(i)}\\big)x^{(i)}\\tag{by BLR.5}\\\\\\\\\n",
    "\\end{align*}$$\n",
    "\n",
    "Alternatively, we can vectorize the gradient:\n",
    "\n",
    "$$\\begin{align*}\n",
    "\\nabla J(\\theta) &= \\begin{bmatrix}\\frac{1}{m}\\sum_{i=1}^{m}\\big(g(\\theta^Tx^{(i)})-y^{(i)}\\big)x_0^{(i)}\\\\\\dots\\\\\\frac{1}{m}\\sum_{i=1}^{m}\\big(g(\\theta^Tx^{(i)})-y^{(i)}\\big)x_n^{(i)}\\end{bmatrix}\\\\\\\\\n",
    "     &= \\frac{1}{m}\\begin{bmatrix}x_0^{(1)}&\\dots&x_0^{(m)}\\\\\\vdots&\\ddots&\\vdots\\\\x_n^{(1)}&\\dots&x_n^{(m)}\\end{bmatrix}\\begin{bmatrix}g(\\theta^Tx^{(1)})-y^{(1)}\\\\\\vdots\\\\g(\\theta^Tx^{(m)})-y^{(m)}\\end{bmatrix}\\\\\\\\\n",
    "     &= \\frac{1}{m}X^T(h-y)\\\\\\\\\n",
    "     &= \\frac{1}{m}([X^T(h-y)]^T)^T\\\\\\\\\n",
    "     &= \\frac{1}{m}((h-y)^TX)^T\\\\\\\\\n",
    "     &= \\frac{1}{m}[(g(X\\theta)-y)^TX]^T\n",
    "\\end{align*}$$\n",
    "\n",
    "where\n",
    "\n",
    "$$\\begin{align*}\n",
    "h\\equiv\\begin{bmatrix}g(\\theta^Tx^{(1)})\\\\\\vdots\\\\g(\\theta^Tx^{(m)})\\end{bmatrix}=g\\Bigg(\\begin{bmatrix}\\theta^Tx^{(1)}\\\\\\vdots\\\\\\theta^Tx^{(m)}\\end{bmatrix}\\Bigg)=g\\Bigg(\\begin{bmatrix}(x^{(1)})^T\\theta\\\\\\vdots\\\\(x^{(m)})^T\\theta\\end{bmatrix}\\Bigg)=g\\Bigg(\\begin{bmatrix}(x^{(1)})^T\\\\\\vdots\\\\(x^{(m)})^T\\end{bmatrix}\\theta\\Bigg)=g(X\\theta)\n",
    "\\end{align*}$$\n",
    "\n",
    "and where $g(v)$ for a vector $v\\in\\mathbb{R}^n$ means elementwise sigmoid.\n",
    "\n",
    "We can also vectorize the objective function from BLR.4:\n",
    "\n",
    "$$\\begin{align*}\n",
    "J(\\theta)\\equiv-\\frac{1}{m}\\ell(\\theta) &= \\frac{1}{m}\\sum_{i=1}^{m}\\log(1+e^{\\theta^Tx^{(i)}})-y^{(i)}\\theta^Tx^{(i)}\\\\\\\\\n",
    "     &= \\frac{1}{m}\\sum_{i=1}^{m}\\log(1+e^{(x^{(i)})^T\\theta})-\\frac{1}{m}\\sum_{i=1}^{m}y^{(i)}\\theta^Tx^{(i)}\\\\\\\\\n",
    "     &= \\frac{1}{m}{\\Large S}\\begin{bmatrix}\\log(1+e^{(x^{(1)})^T\\theta})\\\\\\vdots\\\\\\log(1+e^{(x^{(m)})^T\\theta})\\end{bmatrix}-\\frac{1}{m}\\theta^T\\sum_{i=1}^{m}y^{(i)}x^{(i)}\\\\\\\\\n",
    "     &= \\frac{1}{m}{\\Large S}\\begin{bmatrix}\\log(1+e^{\\langle X_{1:},\\theta\\rangle})\\\\\\vdots\\\\\\log(1+e^{\\langle X_{m:},\\theta\\rangle})\\end{bmatrix}-\\frac{1}{m}\\theta^T\\begin{bmatrix}\\sum_{i=1}^{m}y^{(i)}x_0^{(i)}\\\\\\vdots\\\\\\sum_{i=1}^{m}y^{(i)}x_n^{(i)}\\end{bmatrix}\\tag{by BLR.5}\\\\\\\\\n",
    "     &= \\frac{1}{m}{\\Large S}\\log\\Bigg(1+^B\\exp\\begin{bmatrix}\\langle X_{1:},\\theta\\rangle\\\\\\vdots\\\\\\langle X_{m:},\\theta\\rangle\\end{bmatrix}\\Bigg)-\\frac{1}{m}\\Bigg(\\theta^T\\begin{bmatrix}\\sum_{i=1}^{m}y^{(i)}x_0^{(i)}\\\\\\vdots\\\\\\sum_{i=1}^{m}y^{(i)}x_n^{(i)}\\end{bmatrix}\\Bigg)^T\\\\\\\\\n",
    "     &= \\frac{1}{m}{\\Large S}\\log\\big[1+^B\\exp(X\\theta)\\big]-\\frac{1}{m}\\begin{bmatrix}\\sum_{i=1}^{m}y^{(i)}x_0^{(i)}&\\dots&\\sum_{i=1}^{m}y^{(i)}x_n^{(i)}\\end{bmatrix}\\theta\\\\\\\\\n",
    "     &= \\frac{1}{m}{\\Large S}\\log\\big[1+^B\\exp(X\\theta)\\big]-\\frac{1}{m}\\begin{bmatrix}y^{(1)}&\\dots&y^{(m)}\\end{bmatrix}\\begin{bmatrix}x_0^{(1)}&\\dots&x_n^{(1)}\\\\\\vdots&\\ddots&\\vdots\\\\x_0^{(m)}&\\dots&x_n^{(m)}\\end{bmatrix}\\theta\\\\\\\\\n",
    "     &= \\frac{1}{m}\\Big({\\Large S}\\log\\big[1+^B\\exp(X\\theta)\\big]-y^TX\\theta\\Big)\\\\\\\\\n",
    "\\end{align*}$$\n",
    "\n",
    "where ${\\large S}$ denotes the sum of the elements of the vector and $1+^Bv$ denotes adding $1$ to each of the elements of the vector $v$ (broadcasting). And for any function $f$ (such as $\\log$ or $\\exp$) and vector $v$, $f(v)$ denotes elementwise application of the function."
   ]
  },
  {
   "cell_type": "code",
   "execution_count": 4,
   "metadata": {
    "collapsed": true
   },
   "outputs": [],
   "source": [
    "def log_likelihood_cost_slow(X, theta, y):  \n",
    "    xt = X.dot(theta)\n",
    "    h = np.clip(sigmoid(xt), 1e-16, 1-(1e-16))\n",
    "    return np.mean(-y * np.log(h) - (1 - y) * np.log(1 - h))\n",
    "\n",
    "# this can also be implemented without the scaling term 1/xt.shape[0]\n",
    "def llc(xt, y, regularlization=0, theta=0):\n",
    "    return 1/xt.shape[0] * (np.sum(np.log(1 + np.exp(np.clip(xt, -700, 700)))) - np.dot(y,xt)) \\\n",
    "        + (regularlization * (np.linalg.norm(theta)**2))\n",
    "\n",
    "# this can also be implemented without the scaling term 1/xt.shape[0]\n",
    "def llg(X, xt, y, regularlization=0, theta=0):\n",
    "    return 1/xt.shape[0] * (sigmoid(xt) - y).dot(X) + (regularlization * 2 * theta)\n",
    "\n",
    "def log_likelihood_cost(X, theta, y, cost_or_grad='both', regularlization=0):\n",
    "    xt = X.dot(theta)\n",
    "    th = theta if regularlization else 0\n",
    "    if cost_or_grad == 'both':\n",
    "        return (llc(xt, y, regularlization=regularlization, theta=th), llg(X, xt, y, regularlization=regularlization, theta=th))\n",
    "    if cost_or_grad == 'cost':\n",
    "        return llc(xt, y, regularlization=regularlization, theta=th)\n",
    "    if cost_or_grad == 'grad':\n",
    "        return llg(X, xt, y, regularlization=regularlization, theta=th)\n",
    "\n",
    "def logistic_regression(X, y, learning_rate, scale_lr_geom=False, scale_lr_prop=0, regularlization=0, prntiters=1000, tol=1e-7):\n",
    "    theta = np.zeros(X.shape[1])\n",
    "    thetas, thetas_sample, errors, losses = [], [], [], []\n",
    "    i = 0\n",
    "    while True:\n",
    "        i += 1\n",
    "        prev_theta = theta\n",
    "        cost, grad = log_likelihood_cost(X, theta, y, regularlization=regularlization, cost_or_grad='both')\n",
    "        theta = theta - learning_rate * grad\n",
    "        thetas.append(theta)\n",
    "        errors.append(np.linalg.norm(prev_theta - theta))\n",
    "        losses.append(cost)\n",
    "        if scale_lr_geom: learning_rate /= (i**2)\n",
    "        if scale_lr_prop: learning_rate *= scale_lr_prop\n",
    "        if i % prntiters == 0:\n",
    "            print('iters={} theta={} error={} loss={}'.format(i, np.mean(theta), errors[-1], losses[-1]))\n",
    "            thetas_sample.append(theta)\n",
    "        if errors[-1] < tol:\n",
    "            print('Converged in %d iterations' % i)\n",
    "            break\n",
    "        if i == 200 * 1000:\n",
    "            break\n",
    "    return np.array(thetas), thetas_sample, errors, losses\n",
    "\n",
    "def time_tester(X, y, learning_rate, max_iters, and_cost=False, prntiters=1000, opts=False):\n",
    "    theta = np.zeros(X.shape[1])\n",
    "    thetas = []\n",
    "    for i in range(max_iters):\n",
    "        if and_cost:\n",
    "            cost, grad = log_likelihood_cost(X, theta, y, cost_or_grad='both')\n",
    "        else:\n",
    "            xt = X.dot(theta)\n",
    "            grad = llg(X, xt, y)\n",
    "        theta = theta - learning_rate * grad\n",
    "        if opts:\n",
    "            error = np.linalg.norm(theta[-1] - theta)\n",
    "            thetas.append(theta)\n",
    "            loss = llc(xt, y)\n",
    "            if i % prntiters == 0:\n",
    "                print(\"iter={} theta={} loss={} error={}\".format(i, np.mean(theta), loss, error))\n",
    "    return theta, np.array(thetas)\n",
    "\n",
    "def compare_cost_fns(X, y, iterations=10*1000):\n",
    "    theta = np.random.randn(X.shape[1])\n",
    "    start = time.time()\n",
    "    for i in range(iterations):\n",
    "        log_likelihood_cost(X, theta, y, cost_or_grad='cost')\n",
    "    end = time.time()\n",
    "    print(\"training time for fast cost: {} seconds   iters={}\".format(end - start, iterations))\n",
    "    start = time.time()\n",
    "    for i in range(iterations):\n",
    "        log_likelihood_cost_slow(X, theta, y)\n",
    "    end = time.time()\n",
    "    print(\"training time for slow cost: {} seconds   iters={}\".format(end - start, iterations))"
   ]
  },
  {
   "cell_type": "code",
   "execution_count": 5,
   "metadata": {},
   "outputs": [
    {
     "name": "stdout",
     "output_type": "stream",
     "text": [
      "initial Xitn=(10000, 784)  yitn=(10000,)\n",
      "ind=(10000,)  sumind=2115  Xind=(2115, 784)  yind=(2115,)\n",
      "X_train=(1692, 784)  X_test=(422, 784)  y_train=(1692,)  y_test=(422,)\n",
      "Xy_train=(1692, 785)  Xy_test=(422, 785)\n"
     ]
    }
   ],
   "source": [
    "# let's collect and organize the data\n",
    "\n",
    "Xitn = np.ndfromtxt('images.csv', delimiter=',')\n",
    "yitn = np.ndfromtxt(\"labels.csv\", delimiter=',', dtype=np.int8)\n",
    "print(\"initial Xitn={}  yitn={}\".format(Xitn.shape, yitn.shape))\n",
    "\n",
    "ind = np.logical_or(yitn == 1, yitn == 0)\n",
    "Xind = Xitn[ind, :]\n",
    "yind = yitn[ind]\n",
    "print(\"ind={}  sumind={}  Xind={}  yind={}\".format(ind.shape, np.sum(ind), Xind.shape, yind.shape))\n",
    "\n",
    "num_train = int(len(yind) * 0.8)\n",
    "X_train = Xind[0:num_train, :]\n",
    "X_test = Xind[num_train:-1,:]\n",
    "y_train = yind[0:num_train]\n",
    "y_test = yind[num_train:-1]\n",
    "print(\"X_train={}  X_test={}  y_train={}  y_test={}\".format(X_train.shape, X_test.shape, y_train.shape, y_test.shape))\n",
    "\n",
    "Xy_train = np.hstack((X_train, y_train.reshape(-1,1)))\n",
    "Xy_test = np.hstack((X_test, y_test.reshape(-1,1)))\n",
    "print(\"Xy_train={}  Xy_test={}\".format(Xy_train.shape, Xy_test.shape))"
   ]
  },
  {
   "cell_type": "code",
   "execution_count": 6,
   "metadata": {},
   "outputs": [
    {
     "name": "stdout",
     "output_type": "stream",
     "text": [
      "WRONG: slow cost=5.573007834682271  fast cost=5.573007834681763  diff=5.080380560684716e-13\n",
      "WRONG: slow cost=5.896191305178432  fast cost=5.8961913051791255  diff=-6.936673457857978e-13\n",
      "WRONG: slow cost=5.501053995663017  fast cost=5.5010539956625  diff=5.169198402654729e-13\n",
      "WRONG: slow cost=5.91613088315236  fast cost=5.9161308831531265  diff=-7.664979762012081e-13\n",
      "WRONG: slow cost=5.534945654772681  fast cost=5.534945654773196  diff=-5.151434834260726e-13\n",
      "WRONG: slow cost=5.479477598436633  fast cost=5.479477598436003  diff=6.297184995673888e-13\n",
      "WRONG: slow cost=5.855639574742285  fast cost=5.855639574743685  diff=-1.3997691894473974e-12\n",
      "WRONG: slow cost=5.769005834530796  fast cost=5.769005834531689  diff=-8.926193117986259e-13\n",
      "WRONG: slow cost=5.469440024404497  fast cost=5.469440024405206  diff=-7.096545573404001e-13\n",
      "WRONG: slow cost=5.764425494888452  fast cost=5.764425494887692  diff=7.602807272633072e-13\n",
      "WRONG: slow cost=6.345137061248626  fast cost=6.345137061247452  diff=1.1741718708435656e-12\n",
      "WRONG: slow cost=5.777230916644063  fast cost=5.777230916644594  diff=-5.311306949806749e-13\n",
      "WRONG: slow cost=5.77700738232853  fast cost=5.7770073823280095  diff=5.204725539442734e-13\n",
      "wrong=13  iters=5000  perc=0.0026\n"
     ]
    }
   ],
   "source": [
    "# verify cost function\n",
    "\n",
    "obs, attrs = 1695, 37\n",
    "iterations = 5 * 1000\n",
    "wrong = 0\n",
    "\n",
    "for i in range(iterations):\n",
    "    Xct = np.random.rand(obs, attrs)\n",
    "    theta = np.random.rand(attrs)\n",
    "    yct = np.random.rand(obs)\n",
    "    cost_s = log_likelihood_cost_slow(Xct, theta, yct)\n",
    "    cost_f = log_likelihood_cost(Xct, theta, yct, cost_or_grad='cost')\n",
    "    if np.abs(cost_s - cost_f) > 5e-13:\n",
    "        print(\"WRONG: slow cost={}  fast cost={}  diff={}\".format(cost_s, cost_f, cost_s - cost_f))\n",
    "        wrong+=1\n",
    "\n",
    "print(\"wrong={}  iters={}  perc={}\".format(wrong, iterations, wrong/iterations))"
   ]
  },
  {
   "cell_type": "code",
   "execution_count": 7,
   "metadata": {},
   "outputs": [
    {
     "name": "stdout",
     "output_type": "stream",
     "text": [
      "time elapsed: 5.473459959030151 seconds   percent=1.0\n",
      "time elapsed: 5.445704936981201 seconds   percent=1.0\n"
     ]
    }
   ],
   "source": [
    "# gradient speed test 1\n",
    "# This gradient implementation is from the cs229 Vectorization discussion: logistic_regression.py.\n",
    "# The two implementations take about the same amount of time to run, on this speed test and the\n",
    "# next one. But mine is consistently, slightly faster.\n",
    "\n",
    "def h_vec(theta, X):\n",
    "    signal = np.clip( np.matmul(X, theta), -500, 500 )\n",
    "    return 1 / (1 + np.exp(-signal))\n",
    "\n",
    "def GD (theta, X_train, y_train, alpha):\n",
    "    diff = h_vec(theta, X_train) - y_train\n",
    "    diff = np.reshape(diff, [1, -1])\n",
    "    dx = np.matmul(diff, X_train)\n",
    "    theta -= alpha * np.squeeze(dx)\n",
    "    return theta\n",
    "    \n",
    "def train_vec(X_train, y_train, max_iter, alpha):\n",
    "    theta = np.zeros(X_train.shape[1])\n",
    "    for i in range(max_iter):\n",
    "        theta = GD(theta, X_train, y_train, alpha)       \n",
    "    return theta\n",
    "\n",
    "speed_test_iterations = 10 * 1000\n",
    "alpha = 0.01\n",
    "\n",
    "start = time.time()\n",
    "theta = train_vec(X_train, y_train, speed_test_iterations, alpha)\n",
    "end = time.time()\n",
    "pred = (np.sign(h_vec(theta, X_test) - 0.5) + 1) / 2\n",
    "print(\"time elapsed: {} seconds   percent={}\".format(end - start, np.sum(pred == y_test) / len(y_test)))\n",
    "\n",
    "start = time.time()\n",
    "theta, thetas = time_tester(X_train, y_train, learning_rate=alpha, max_iters=speed_test_iterations, and_cost=False, opts=False)\n",
    "end = time.time()\n",
    "h = sigmoid(X_test.dot(theta))\n",
    "pred = (np.sign(h - 0.5) + 1) / 2\n",
    "print(\"time elapsed: {} seconds   percent={}\".format(end - start, np.sum(pred == y_test) / len(y_test)))"
   ]
  },
  {
   "cell_type": "code",
   "execution_count": 8,
   "metadata": {},
   "outputs": [
    {
     "name": "stdout",
     "output_type": "stream",
     "text": [
      "training time: 88.40023493766785 seconds   iters=10000\n",
      "training time: 88.92623400688171 seconds   iters=10000\n"
     ]
    }
   ],
   "source": [
    "# gradient speed test 2\n",
    "\n",
    "import random\n",
    "rs=2\n",
    "np.random.seed(rs)\n",
    "random.seed(rs)\n",
    "\n",
    "speed_test_iterations = 10 * 1000\n",
    "alpha = .01\n",
    "numb_obs = 23 * 1000\n",
    "Xst = np.random.rand(numb_obs,784)\n",
    "yst = np.array([random.getrandbits(1) for i in range(numb_obs)])\n",
    "\n",
    "start = time.time()\n",
    "theta, thetas = time_tester(Xst, yst, learning_rate=alpha, max_iters=speed_test_iterations, and_cost=False, opts=False)\n",
    "end = time.time()\n",
    "print(\"training time: {} seconds   iters={}\".format(end - start, speed_test_iterations))\n",
    "\n",
    "start = time.time()\n",
    "theta = train_vec(Xst, yst, speed_test_iterations, alpha)\n",
    "end = time.time()\n",
    "print(\"training time: {} seconds   iters={}\".format(end - start, speed_test_iterations))"
   ]
  },
  {
   "cell_type": "code",
   "execution_count": 9,
   "metadata": {},
   "outputs": [
    {
     "name": "stdout",
     "output_type": "stream",
     "text": [
      "training time for fast cost: 28.637451887130737 seconds   iters=100000\n",
      "training time for slow cost: 31.423377752304077 seconds   iters=100000\n"
     ]
    }
   ],
   "source": [
    "# cost speed test\n",
    "\n",
    "compare_cost_fns(X_train, y_train, iterations=100*1000)"
   ]
  },
  {
   "cell_type": "code",
   "execution_count": 10,
   "metadata": {
    "collapsed": true
   },
   "outputs": [],
   "source": [
    "# This is logistic regression with the logisitic cost, from PS-02, Q1:\n",
    "\n",
    "def add_intercept(X_):\n",
    "    m, n = X_.shape\n",
    "    X = np.zeros((m, n + 1))\n",
    "    X[:, 0] = 1\n",
    "    X[:, 1:] = X_\n",
    "    return X\n",
    "\n",
    "def load_data(filename):\n",
    "    D = np.loadtxt(filename)\n",
    "    Y = D[:, 0]\n",
    "    X = D[:, 1:]\n",
    "    return add_intercept(X), Y\n",
    "\n",
    "def logistic_cost(probs, regularlization=0, theta=0):\n",
    "    return -np.mean(np.log(probs)) + (regularlization * (np.linalg.norm(theta)**2))\n",
    "\n",
    "def logistic_grad(X, Y, probs, regularlization=0, theta=0):\n",
    "    return -(1./X.shape[0]) * (X.T.dot(probs * Y)) + (regularlization * 2 * theta)\n",
    "\n",
    "def logistic_cost_and_grad(X, Y, theta, regularlization=0, cog='both'):\n",
    "    margins = Y * X.dot(theta)\n",
    "    th = theta if regularlization else 0\n",
    "    if cog == 'grad':\n",
    "        probs = sigmoid(-margins)\n",
    "        return logistic_grad(X, Y, probs, regularlization=regularlization, theta=th)\n",
    "    if cog == 'cost':\n",
    "        probs = sigmoid(margins)\n",
    "        return logistic_cost(probs, regularlization=regularlization, theta=th)\n",
    "    if cog == 'both':\n",
    "        pc = sigmoid(margins)\n",
    "        pg = 1 - pc\n",
    "        cost = logistic_cost(pc, regularlization=regularlization, theta=th)\n",
    "        grad = logistic_grad(X, Y, pg, regularlization=regularlization, theta=th)\n",
    "        return cost, grad\n",
    "\n",
    "def logistic_regression_2(X, Y, scale_lr_geom=False, scale_lr_prop=0, regularlization=0, tol=1e-15):\n",
    "    theta = np.zeros(X.shape[1])\n",
    "    learning_rate = 10\n",
    "    thetas, thetas_sample, errors, losses = [], [], [], []\n",
    "    i = 0\n",
    "    while True:\n",
    "        i += 1\n",
    "        prev_theta = theta\n",
    "        cost, grad = logistic_cost_and_grad(X, Y, theta, regularlization=regularlization, cog='both')\n",
    "        theta = theta - learning_rate * grad\n",
    "        thetas.append(theta)\n",
    "        errors.append(np.linalg.norm(prev_theta - theta))\n",
    "        losses.append(cost)\n",
    "        if scale_lr_geom: learning_rate /= (i**2)\n",
    "        if scale_lr_prop: learning_rate *= scale_lr_prop\n",
    "        if i % 10000 == 0:\n",
    "            print('iters={} theta={} error={} loss={}'.format(i, theta, errors[-1], losses[-1]))\n",
    "            thetas_sample.append(theta)\n",
    "        if errors[-1] < tol:\n",
    "            print('Converged in %d iterations' % i)\n",
    "            break\n",
    "        if i == 200 * 1000:\n",
    "            break\n",
    "    return np.array(thetas), thetas_sample, errors, losses"
   ]
  },
  {
   "cell_type": "code",
   "execution_count": 11,
   "metadata": {},
   "outputs": [
    {
     "name": "stdout",
     "output_type": "stream",
     "text": [
      "781\n",
      "781\n",
      "199\n",
      "199\n"
     ]
    }
   ],
   "source": [
    "y_train_2 = y_train.copy()\n",
    "print(sum(y_train_2==0))\n",
    "y_train_2[y_train_2==0]=-1\n",
    "print(sum(y_train_2==-1))\n",
    "\n",
    "y_test_2 = y_test.copy()\n",
    "print(sum(y_test_2==0))\n",
    "y_test_2[y_test_2==0]=-1\n",
    "print(sum(y_test_2==-1))"
   ]
  },
  {
   "cell_type": "code",
   "execution_count": 12,
   "metadata": {},
   "outputs": [
    {
     "name": "stdout",
     "output_type": "stream",
     "text": [
      "Converged in 13 iterations\n",
      "number_correct=422  number_tested=422  percentage correct=1.0\n"
     ]
    }
   ],
   "source": [
    "# Notice that the gradient of the logistic cost gives much faster convergence and the same accuracy\n",
    "\n",
    "thetas_2, thetas_sample_2, errors_2, losses_2 = logistic_regression_2(X_train, y_train_2, .01, tol=1e-15)\n",
    "pred = np.sign(sigmoid(X_test.dot(thetas_2[-1])) - 0.5)\n",
    "number_correct = np.sum(pred == y_test_2)\n",
    "number_tested = len(y_test_2)\n",
    "print(\"number_correct={}  number_tested={}  percentage correct={}\".format(number_correct, number_tested, number_correct / number_tested))"
   ]
  },
  {
   "cell_type": "code",
   "execution_count": 13,
   "metadata": {},
   "outputs": [
    {
     "name": "stdout",
     "output_type": "stream",
     "text": [
      "iters=1000 theta=-0.03385757677723093 error=5.423972289571108e-07 loss=-1263.8944895305808\n",
      "iters=2000 theta=-0.03386206920521454 error=2.6862897258321127e-07 loss=-1263.7935615838076\n",
      "iters=3000 theta=-0.03386468216836832 error=1.7853010353704674e-07 loss=-1263.7348767853491\n",
      "iters=4000 theta=-0.033866532036649334 error=1.3369190404779807e-07 loss=-1263.693335521272\n",
      "iters=5000 theta=-0.03386796522412732 error=1.0685567410204589e-07 loss=-1263.6611535129487\n",
      "iters=6000 theta=-0.03386913536648768 error=8.899239383794842e-08 loss=-1263.6348792347956\n",
      "Converged in 6673 iterations\n"
     ]
    }
   ],
   "source": [
    "thetas, thetas_sample, errors, losses = logistic_regression(X_train, y_train, learning_rate=.01, regularlization=0, prntiters=1000, tol=8e-8)"
   ]
  },
  {
   "cell_type": "code",
   "execution_count": 14,
   "metadata": {},
   "outputs": [
    {
     "data": {
      "text/plain": [
       "2"
      ]
     },
     "execution_count": 14,
     "metadata": {},
     "output_type": "execute_result"
    }
   ],
   "source": [
    "theta = thetas[-1]\n",
    "theta.shape\n",
    "h = sigmoid(X_test.dot(theta))\n",
    "np.sum([(h>1e-230) & (h<1-1e-230)])"
   ]
  },
  {
   "cell_type": "code",
   "execution_count": 15,
   "metadata": {},
   "outputs": [
    {
     "name": "stdout",
     "output_type": "stream",
     "text": [
      "number_correct=422  number_tested=422  percentage correct=1.0\n"
     ]
    }
   ],
   "source": [
    "pred = (np.sign(h - 0.5) + 1) / 2\n",
    "number_correct = np.sum(pred == y_test)\n",
    "number_tested = len(y_test)\n",
    "print(\"number_correct={}  number_tested={}  percentage correct={}\".format(number_correct, number_tested, number_correct / number_tested))"
   ]
  },
  {
   "cell_type": "code",
   "execution_count": null,
   "metadata": {
    "collapsed": true
   },
   "outputs": [],
   "source": []
  }
 ],
 "metadata": {
  "kernelspec": {
   "display_name": "Python 3",
   "language": "python",
   "name": "python3"
  },
  "language_info": {
   "codemirror_mode": {
    "name": "ipython",
    "version": 3
   },
   "file_extension": ".py",
   "mimetype": "text/x-python",
   "name": "python",
   "nbconvert_exporter": "python",
   "pygments_lexer": "ipython3",
   "version": "3.6.1"
  }
 },
 "nbformat": 4,
 "nbformat_minor": 2
}
