{
 "cells": [
  {
   "cell_type": "markdown",
   "metadata": {},
   "source": [
    "__Claim__ $trAB=trBA$\n",
    "\n",
    "__Proof__\n",
    "\n",
    "$$\\begin{align*}\n",
    "trAB &= \\sum_i(AB)_{ii} = \\sum_iA_iB_{:i} = \\sum_i\\sum_jA_{ij}B_{ji} = \\sum_i\\sum_jB_{ji}A_{ij} = \\sum_j\\sum_iB_{ji}A_{ij} = \\sum_jB_{j}A_{:j} = \\sum_j(BA)_{jj} = trBA\n",
    "\\end{align*}$$"
   ]
  },
  {
   "cell_type": "code",
   "execution_count": null,
   "metadata": {
    "collapsed": true
   },
   "outputs": [],
   "source": []
  }
 ],
 "metadata": {
  "kernelspec": {
   "display_name": "Python 3",
   "language": "python",
   "name": "python3"
  },
  "language_info": {
   "codemirror_mode": {
    "name": "ipython",
    "version": 3
   },
   "file_extension": ".py",
   "mimetype": "text/x-python",
   "name": "python",
   "nbconvert_exporter": "python",
   "pygments_lexer": "ipython3",
   "version": "3.6.1"
  }
 },
 "nbformat": 4,
 "nbformat_minor": 2
}
